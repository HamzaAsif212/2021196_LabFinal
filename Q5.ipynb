{
 "cells": [
  {
   "cell_type": "code",
   "execution_count": 1,
   "id": "9248553d",
   "metadata": {},
   "outputs": [],
   "source": [
    "import pandas as pd\n",
    "from sklearn.feature_extraction.text import CountVectorizer\n",
    "from sklearn.preprocessing import normalize\n",
    "from sklearn.cluster import KMeans"
   ]
  },
  {
   "cell_type": "code",
   "execution_count": 2,
   "id": "0674da4d",
   "metadata": {},
   "outputs": [],
   "source": [
    "data2 = pd.read_excel('chatgpt1-2.xlsx')"
   ]
  },
  {
   "cell_type": "code",
   "execution_count": 3,
   "id": "da36c101",
   "metadata": {},
   "outputs": [],
   "source": [
    "data = data2.head(1000)"
   ]
  },
  {
   "cell_type": "code",
   "execution_count": 4,
   "id": "783fa408",
   "metadata": {},
   "outputs": [],
   "source": [
    "data = data.dropna(subset=['Text', 'hashtag'])  # Remove rows with missing tweet text or hashtags"
   ]
  },
  {
   "cell_type": "code",
   "execution_count": 5,
   "id": "c4042907",
   "metadata": {},
   "outputs": [],
   "source": [
    "data['hashtag'] = data['Text'].str.findall(r'#\\w+')"
   ]
  },
  {
   "cell_type": "code",
   "execution_count": 6,
   "id": "7bd701dc",
   "metadata": {},
   "outputs": [],
   "source": [
    "hashtags_freq = pd.Series([x for y in data['hashtag'] for x in y]).value_counts()"
   ]
  },
  {
   "cell_type": "code",
   "execution_count": 8,
   "id": "033b6516",
   "metadata": {},
   "outputs": [],
   "source": [
    "vectorizer = CountVectorizer(token_pattern=r'#\\w+')\n",
    "X = vectorizer.fit_transform(data['Text'])\n",
    "X = X.toarray()\n",
    "X = normalize(X, axis=1)"
   ]
  },
  {
   "cell_type": "code",
   "execution_count": 9,
   "id": "921e0b59",
   "metadata": {},
   "outputs": [
    {
     "name": "stdout",
     "output_type": "stream",
     "text": [
      "Cluster 1 common hashtags: #bigdata, #AI, #ç, #ãƒ, #ChatGPT, #Tech, #OpenAI, #ArtificialIntelligence, #DataScience, #note\n",
      "Cluster 2 common hashtags: #ChatGPT, #AI, #GPT3, #paid, #Googlekiller\n",
      "Cluster 3 common hashtags: #ChatGPT, #chatgpt, #OpenAI, #chatGPT, #openai, #openAI, #teacher, #Ú, #ChatGpt, #IntelligenceArtificielle\n",
      "Cluster 4 common hashtags: #ArtificialIntelligence, #ChatGPT, #chatGPT, #AI, #future, #MachineLearning, #chatgpt3, #AlgorithmChurch, #visionary, #BigData\n",
      "Cluster 5 common hashtags: #AI, #ChatGPT, #chatgpt, #ai, #GenerativeAI, #LearnWithSundar, #AIFuture, #Shareknowledge, #Community, #Blogging\n"
     ]
    },
    {
     "name": "stderr",
     "output_type": "stream",
     "text": [
      "/Users/student/anaconda3/lib/python3.9/site-packages/sklearn/cluster/_kmeans.py:870: FutureWarning: The default value of `n_init` will change from 10 to 'auto' in 1.4. Set the value of `n_init` explicitly to suppress the warning\n",
      "  warnings.warn(\n"
     ]
    }
   ],
   "source": [
    "k = 5  # Number of clusters\n",
    "kmeans = KMeans(n_clusters=k)\n",
    "kmeans.fit(X)\n",
    "\n",
    "# Analyze the clusters\n",
    "for i in range(k):\n",
    "    cluster_tweets = data[kmeans.labels_ == i]\n",
    "    cluster_hashtags = pd.Series([x for y in cluster_tweets['hashtag'] for x in y])\n",
    "    common_hashtags = cluster_hashtags.value_counts().head(10)\n",
    "    print(f\"Cluster {i+1} common hashtags: {', '.join(common_hashtags.index)}\")"
   ]
  },
  {
   "cell_type": "code",
   "execution_count": null,
   "id": "3288478b",
   "metadata": {},
   "outputs": [],
   "source": []
  }
 ],
 "metadata": {
  "kernelspec": {
   "display_name": "Python 3 (ipykernel)",
   "language": "python",
   "name": "python3"
  },
  "language_info": {
   "codemirror_mode": {
    "name": "ipython",
    "version": 3
   },
   "file_extension": ".py",
   "mimetype": "text/x-python",
   "name": "python",
   "nbconvert_exporter": "python",
   "pygments_lexer": "ipython3",
   "version": "3.9.16"
  }
 },
 "nbformat": 4,
 "nbformat_minor": 5
}
